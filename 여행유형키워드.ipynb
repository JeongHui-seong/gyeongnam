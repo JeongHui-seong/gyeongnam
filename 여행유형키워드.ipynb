{
 "cells": [
  {
   "cell_type": "code",
   "execution_count": null,
   "id": "5a7df65b-093a-4063-8896-cf141ab7aac9",
   "metadata": {},
   "outputs": [],
   "source": [
    "import pandas as pd\n",
    "from collections import Counter\n",
    "import matplotlib.pyplot as plt\n",
    "import matplotlib.font_manager as fm\n",
    "import matplotlib\n",
    "\n",
    "fm.fontManager.addfont(path = \"./font/NanumGothic.ttf\")\n",
    "matplotlib.rcParams[\"font.family\"] = \"NanumGothic\"\n",
    "\n",
    "df = pd.read_csv('./csv/202310202503여행유형키워드.csv')\n",
    "\n",
    "df1 = df.head(20)\n",
    "\n",
    "df1\n",
    "df1.reset_index(drop = True)\n",
    "df1.index = df1.index + 1\n",
    "\n",
    "df1\n",
    "\n",
    "counter = dict(Counter(df['분류']))\n",
    "df2 = pd.DataFrame([counter])\n",
    "df2 = df2.T\n",
    "df2 = df2.reset_index()\n",
    "df2.columns = ['분류','갯수']\n",
    "df2 = df2.sort_values('갯수', ascending = True)\n",
    "\n",
    "plt.figure(figsize = (12, 12))\n",
    "wedges, texts, autotextx = plt.pie(\n",
    "    df2['갯수'],\n",
    "    labels = df2['분류'],\n",
    "    colors = ['#dddddd','#ffcc99','#99ff99','#66b3ff','#ff9999'],\n",
    "    autopct = '%d%%',\n",
    "    pctdistance = 0.5,\n",
    "    startangle = 90\n",
    ")\n",
    "\n",
    "plt.title('SNS 언급 키워드 카테고리별 점유율')\n",
    "plt.savefig('./img/SNS언급키워드카테고리별점유율.png')\n",
    "plt.show()"
   ]
  },
  {
   "cell_type": "code",
   "execution_count": null,
   "id": "0a68f082-c567-4bbd-bc4a-9b1743ee52ef",
   "metadata": {},
   "outputs": [],
   "source": []
  }
 ],
 "metadata": {
  "kernelspec": {
   "display_name": "Python 3 (ipykernel)",
   "language": "python",
   "name": "python3"
  },
  "language_info": {
   "codemirror_mode": {
    "name": "ipython",
    "version": 3
   },
   "file_extension": ".py",
   "mimetype": "text/x-python",
   "name": "python",
   "nbconvert_exporter": "python",
   "pygments_lexer": "ipython3",
   "version": "3.10.12"
  }
 },
 "nbformat": 4,
 "nbformat_minor": 5
}
